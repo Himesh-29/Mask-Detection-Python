{
 "cells": [
  {
   "cell_type": "code",
   "execution_count": 1,
   "id": "78c381d0",
   "metadata": {},
   "outputs": [],
   "source": [
    "from tensorflow.keras.applications.mobilenet_v2 import preprocess_input\n",
    "from tensorflow.keras.preprocessing.image import img_to_array\n",
    "from tensorflow.keras.models import load_model\n",
    "\n",
    "from imutils.video import VideoStream\n",
    "\n",
    "import numpy as np\n",
    "\n",
    "import imutils, time, cv2, os"
   ]
  },
  {
   "cell_type": "code",
   "execution_count": 2,
   "id": "820d83ae",
   "metadata": {},
   "outputs": [],
   "source": [
    "def detect_mask(frame,faceNet,maskNet):\n",
    "   \n",
    "    #Get the dimensions of frame and construct blob from it\n",
    "    (h,w)=frame.shape[:2]\n",
    "    blob=cv2.dnn.blobFromImage(frame,1.0,(224,224),(104.0,177.0,123.0))\n",
    "    \n",
    "    #Pass the blob through the network and obtain face detections\n",
    "    faceNet.setInput(blob)\n",
    "    detections=faceNet.forward()\n",
    "    \n",
    "    #Initialize\n",
    "    faces=[] #list of faces\n",
    "    locs=[] #their corresponding locations\n",
    "    preds=[] #list of predictions from our face mask network\n",
    "    \n",
    "    #Loop over detections\n",
    "    for i in range(0,detections.shape[2]):\n",
    "        #Getting the probability associated with the detection\n",
    "        prob=detections[0,0,i,2]\n",
    "        \n",
    "        #Filtering out probabilities which are less than bare minimum\n",
    "        if prob>0.7:\n",
    "            #compute the (x,y) coords of bounding box of the object\n",
    "            box=detections[0,0,i,3:7]*np.array([w,h,w,h])\n",
    "            (x1,y1,x2,y2)=box.astype(\"int\")\n",
    "            \n",
    "            #Ensuring that boundries are within the frame dimensions\n",
    "            (x1,y1)=(max(0,x1),max(0,y1))\n",
    "            (x2,y2)=(min(w-1,x2),min(h-1,y2))\n",
    "            \n",
    "            #Extract the face ROI, convert it from BGR to RGB channel, then ordering it, resizing it 224 x 224 and then preprocessing it\n",
    "            face=frame[y1:y2,x1:x2]\n",
    "            face=cv2.cvtColor(face,cv2.COLOR_BGR2RGB)\n",
    "            face=cv2.resize(face,(224,224))\n",
    "            face=img_to_array(face)\n",
    "            face=preprocess_input(face)\n",
    "            \n",
    "            faces.append(face)\n",
    "            locs.append((x1,y1,x2,y2))\n",
    "    \n",
    "    #Only make prediction if face is there\n",
    "    if len(faces)>0:\n",
    "        #For faster inference, we'll make batch predictions on all faces at the same time rather than one-by-one predictions in above for loop\n",
    "        faces=np.array(faces,dtype=\"float32\")\n",
    "        predictions=maskNet.predict(faces,batch_size=32)\n",
    "        \n",
    "    #Return a tuple containing the face location and it's predictions\n",
    "    return (locs,predictions)"
   ]
  },
  {
   "cell_type": "code",
   "execution_count": 3,
   "id": "5d8ef9e3",
   "metadata": {},
   "outputs": [],
   "source": [
    "#Load our serialized face detector model from disk\n",
    "prototxtPath=\"./face_detector/deploy.prototxt\"\n",
    "weightsPath=\"./face_detector/res10_300x300_ssd_iter_140000.caffemodel\"\n",
    "faceNet=cv2.dnn.readNet(prototxtPath,weightsPath)"
   ]
  },
  {
   "cell_type": "code",
   "execution_count": 4,
   "id": "9bf87b1f",
   "metadata": {},
   "outputs": [],
   "source": [
    "#loading our model for mask detection\n",
    "maskNet=load_model(\"mask_detection.model\")"
   ]
  },
  {
   "cell_type": "code",
   "execution_count": 5,
   "id": "a330d788",
   "metadata": {},
   "outputs": [
    {
     "name": "stdout",
     "output_type": "stream",
     "text": [
      "[INFO] Starting video...\n",
      "[INFO] Closing...\n"
     ]
    }
   ],
   "source": [
    "#Initializing the video stream\n",
    "print(\"[INFO] Starting video...\")\n",
    "video_stream=VideoStream(src=0).start() #src=0 means that we will use the first camera that computer has permission to use\n",
    "\n",
    "#loop over the frames in the video_stream\n",
    "while True:\n",
    "    \n",
    "    #Get the frame from threaded video stream and resizing it to have maximum width of 500 pixels\n",
    "    frame=video_stream.read()\n",
    "    frame=imutils.resize(frame,width=500)\n",
    "    \n",
    "    #Detect faces in the frame and obtaining the locations and predictions if they're wearing the mask or not\n",
    "    (locs,preds)=detect_mask(frame,faceNet,maskNet)\n",
    "    \n",
    "    #Loop over the detected face locations and their corresponding prediction\n",
    "    for (box,pred) in zip(locs,preds):\n",
    "        #unpack the bounding box and predictions\n",
    "        (x1,y1,x2,y2)=box\n",
    "        (mask,without_mask)=pred\n",
    "        \n",
    "        #determine the class label and color that we'll use to draw the bounding box\n",
    "        label=\"MASK\" if mask>without_mask else \"NO MASK\"\n",
    "        color=(0,255,0) if label==\"MASK\" else (0,0,255)\n",
    "        \n",
    "        #text string depicting the probability\n",
    "        label=\"{}: {:.2f}%\".format(label,max(mask,without_mask)*100)\n",
    "        \n",
    "        #Display the text and the box surrounding the face\n",
    "        cv2.putText(frame,label,(x1,y1-10),cv2.FONT_HERSHEY_SIMPLEX,0.45,color,2)\n",
    "        cv2.rectangle(frame,(x1,y1),(x2,y2),color,2)\n",
    "        \n",
    "    #Show the output frame\n",
    "    cv2.imshow(\"Frame\",frame)\n",
    "    key=cv2.waitKey(1)&0xFF\n",
    "    \n",
    "    #if the key pressed is q, quit the video stream\n",
    "    if key==ord('q'):\n",
    "        break       \n",
    "\n",
    "cv2.destroyAllWindows()\n",
    "video_stream.stream.release()\n",
    "\n",
    "print(\"[INFO] Closing...\") "
   ]
  }
 ],
 "metadata": {
  "kernelspec": {
   "display_name": "Python 3 (ipykernel)",
   "language": "python",
   "name": "python3"
  },
  "language_info": {
   "codemirror_mode": {
    "name": "ipython",
    "version": 3
   },
   "file_extension": ".py",
   "mimetype": "text/x-python",
   "name": "python",
   "nbconvert_exporter": "python",
   "pygments_lexer": "ipython3",
   "version": "3.9.6"
  }
 },
 "nbformat": 4,
 "nbformat_minor": 5
}
